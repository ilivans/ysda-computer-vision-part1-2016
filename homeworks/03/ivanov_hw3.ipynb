{
 "cells": [
  {
   "cell_type": "code",
   "execution_count": 2,
   "metadata": {
    "collapsed": false
   },
   "outputs": [
    {
     "data": {
      "text/html": [
       "<div>\n",
       "<table border=\"1\" class=\"dataframe\">\n",
       "  <thead>\n",
       "    <tr style=\"text-align: right;\">\n",
       "      <th></th>\n",
       "      <th>filename</th>\n",
       "      <th>class_id</th>\n",
       "    </tr>\n",
       "  </thead>\n",
       "  <tbody>\n",
       "    <tr>\n",
       "      <th>0</th>\n",
       "      <td>00000.png</td>\n",
       "      <td>0</td>\n",
       "    </tr>\n",
       "    <tr>\n",
       "      <th>1</th>\n",
       "      <td>00001.png</td>\n",
       "      <td>0</td>\n",
       "    </tr>\n",
       "    <tr>\n",
       "      <th>2</th>\n",
       "      <td>00002.png</td>\n",
       "      <td>0</td>\n",
       "    </tr>\n",
       "    <tr>\n",
       "      <th>3</th>\n",
       "      <td>00003.png</td>\n",
       "      <td>0</td>\n",
       "    </tr>\n",
       "    <tr>\n",
       "      <th>4</th>\n",
       "      <td>00004.png</td>\n",
       "      <td>0</td>\n",
       "    </tr>\n",
       "  </tbody>\n",
       "</table>\n",
       "</div>"
      ],
      "text/plain": [
       "    filename  class_id\n",
       "0  00000.png         0\n",
       "1  00001.png         0\n",
       "2  00002.png         0\n",
       "3  00003.png         0\n",
       "4  00004.png         0"
      ]
     },
     "execution_count": 2,
     "metadata": {},
     "output_type": "execute_result"
    }
   ],
   "source": [
    "import pandas as pd\n",
    "\n",
    "data_train = pd.read_csv('train/gt.csv')\n",
    "y_train = data_train.class_id\n",
    "data_train.head()"
   ]
  },
  {
   "cell_type": "code",
   "execution_count": 3,
   "metadata": {
    "collapsed": false
   },
   "outputs": [
    {
     "name": "stdout",
     "output_type": "stream",
     "text": [
      "CPU times: user 39.3 s, sys: 51.7 s, total: 1min 31s\n",
      "Wall time: 30.6 s\n"
     ]
    }
   ],
   "source": [
    "from skimage.transform import resize\n",
    "\n",
    "%time ic_train = [resize(imread('./train/' + name, True), (32,32)) for name in data_train.filename]"
   ]
  },
  {
   "cell_type": "code",
   "execution_count": 4,
   "metadata": {
    "collapsed": true
   },
   "outputs": [],
   "source": [
    "import numpy as np\n",
    "from scipy.ndimage.filters import convolve\n",
    "\n",
    "def extract_hog(img, cell_rows=8, cell_cols=8, block_row_cells=2, block_col_cells=2, eps=1e-8,\n",
    "                block_row_stride=2, block_col_stride=2, bins=8):\n",
    "    \n",
    "    block_rows = block_row_cells * cell_rows\n",
    "    block_cols = block_col_cells * cell_cols\n",
    "    Dx = np.array([[-1, 0, 1]])\n",
    "    Dy = np.array([[-1], [0], [1]])\n",
    "    \n",
    "    Ix = convolve(img, Dx, mode='constant')\n",
    "    Iy = convolve(img, Dy, mode='constant')\n",
    "    G = np.sqrt(Ix ** 2 + Iy ** 2)\n",
    "    # theta\n",
    "    T = np.arctan2(Iy, Ix)    \n",
    "    T[T < 0] += np.pi\n",
    "    hog = []\n",
    "    \n",
    "    for block_row_start in range(0, img.shape[0] - block_rows, block_row_stride):\n",
    "        for block_col_start in range(0, img.shape[1] - block_cols, block_col_stride):\n",
    "\n",
    "            G_block = G[block_row_start : block_row_start + block_rows,\n",
    "                        block_col_start : block_col_start + block_cols]\n",
    "            T_block = T[block_row_start : block_row_start + block_rows,\n",
    "                        block_col_start : block_col_start + block_cols]\n",
    "            v = []\n",
    "            for block_row_cell in range(block_row_cells):\n",
    "                for block_col_cell in range(block_col_cells):\n",
    "                    G_cell = G_block[block_row_cell * cell_rows : block_row_cell * cell_rows + cell_rows,\n",
    "                                     block_col_cell * cell_cols : block_col_cell * cell_cols + cell_cols]\n",
    "                    T_cell = T_block[block_row_cell * cell_rows : block_row_cell * cell_rows + cell_rows,\n",
    "                                     block_col_cell * cell_cols : block_col_cell * cell_cols + cell_cols]    \n",
    "                    hist, _ = np.histogram(T_cell.flatten(), bins, range=(0, np.pi), weights=G_cell.flatten())\n",
    "                    v.extend(hist)\n",
    "            v = np.array(v)\n",
    "            v = v / np.sqrt(np.sum(v ** 2) + eps)\n",
    "            hog.extend(v)\n",
    "            \n",
    "    return np.array(hog)"
   ]
  },
  {
   "cell_type": "code",
   "execution_count": 5,
   "metadata": {
    "collapsed": false
   },
   "outputs": [
    {
     "name": "stdout",
     "output_type": "stream",
     "text": [
      "2048\n"
     ]
    }
   ],
   "source": [
    "num_feat = extract_hog(ic_train[0]).shape[0]\n",
    "print num_feat"
   ]
  },
  {
   "cell_type": "code",
   "execution_count": 7,
   "metadata": {
    "collapsed": false
   },
   "outputs": [
    {
     "name": "stdout",
     "output_type": "stream",
     "text": [
      "CPU times: user 10min 3s, sys: 124 ms, total: 10min 3s\n",
      "Wall time: 10min 3s\n"
     ]
    }
   ],
   "source": [
    "%%time\n",
    "\n",
    "X_train = np.zeros((len(ic_train), num_feat))\n",
    "for i in xrange(len(ic_train)):\n",
    "    X_train[i] = extract_hog(ic_train[i])"
   ]
  },
  {
   "cell_type": "code",
   "execution_count": 9,
   "metadata": {
    "collapsed": false
   },
   "outputs": [
    {
     "name": "stdout",
     "output_type": "stream",
     "text": [
      "[CV] no parameters to be set .........................................\n",
      "[CV] ................ no parameters to be set, score=0.910865 - 1.8min\n",
      "[CV] no parameters to be set .........................................\n",
      "[CV] ................ no parameters to be set, score=0.908799 - 1.8min\n",
      "[CV] no parameters to be set .........................................\n",
      "[CV] ................ no parameters to be set, score=0.916214 - 1.9min\n"
     ]
    },
    {
     "name": "stderr",
     "output_type": "stream",
     "text": [
      "[Parallel(n_jobs=1)]: Done   3 out of   3 | elapsed:  5.5min finished\n"
     ]
    },
    {
     "data": {
      "text/plain": [
       "array([ 0.91086458,  0.90879878,  0.91621394])"
      ]
     },
     "execution_count": 9,
     "metadata": {},
     "output_type": "execute_result"
    }
   ],
   "source": [
    "from sklearn.svm import LinearSVC, SVC\n",
    "from sklearn.cross_validation import cross_val_score\n",
    "\n",
    "cross_val_score(LinearSVC(), X_train, y_train, scoring='accuracy', verbose=4)"
   ]
  },
  {
   "cell_type": "code",
   "execution_count": 29,
   "metadata": {
    "collapsed": false
   },
   "outputs": [
    {
     "name": "stdout",
     "output_type": "stream",
     "text": [
      "CPU times: user 3min 20s, sys: 20.1 s, total: 3min 40s\n",
      "Wall time: 3min 54s\n"
     ]
    }
   ],
   "source": [
    "%%time\n",
    "from skimage.io import imread, ImageCollection\n",
    "\n",
    "def imread_gray(img, **params):\n",
    "    return imread(img, as_grey=True)\n",
    "\n",
    "ic_test = [resize(img, (32,32)) for img in ImageCollection('./test/*.png', load_func=imread_gray)]\n",
    "X_test = np.zeros((len(ic_test), num_feat))\n",
    "for i in xrange(len(ic_test)):\n",
    "    X_test[i] = extract_hog(ic_test[i])"
   ]
  },
  {
   "cell_type": "code",
   "execution_count": 32,
   "metadata": {
    "collapsed": false
   },
   "outputs": [
    {
     "name": "stdout",
     "output_type": "stream",
     "text": [
      "CPU times: user 2min 45s, sys: 908 ms, total: 2min 46s\n",
      "Wall time: 2min 45s\n"
     ]
    }
   ],
   "source": [
    "def fit_and_classify(clf, X_train, y_train, X_test):\n",
    "    return clf.fit(X_train, y_train).predict(X_test)\n",
    "\n",
    "%time y_pred = fit_and_classify(LinearSVC(), X_train, y_train, X_test)"
   ]
  },
  {
   "cell_type": "code",
   "execution_count": 41,
   "metadata": {
    "collapsed": false
   },
   "outputs": [],
   "source": [
    "data_test = data_train.ix[:len(ic_test) - 1, :].copy()\n",
    "data_test.iloc[:, 1] = y_pred\n",
    "data_test.to_csv('test.csv', index=False)"
   ]
  },
  {
   "cell_type": "code",
   "execution_count": null,
   "metadata": {
    "collapsed": true
   },
   "outputs": [],
   "source": []
  }
 ],
 "metadata": {
  "kernelspec": {
   "display_name": "Python 2",
   "language": "python",
   "name": "python2"
  },
  "language_info": {
   "codemirror_mode": {
    "name": "ipython",
    "version": 2
   },
   "file_extension": ".py",
   "mimetype": "text/x-python",
   "name": "python",
   "nbconvert_exporter": "python",
   "pygments_lexer": "ipython2",
   "version": "2.7.12"
  }
 },
 "nbformat": 4,
 "nbformat_minor": 1
}
